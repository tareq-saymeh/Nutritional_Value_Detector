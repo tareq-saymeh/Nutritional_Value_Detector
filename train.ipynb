{
  "cells": [
    {
      "cell_type": "code",
      "execution_count": null,
      "metadata": {},
      "outputs": [],
      "source": [
        "from ultralytics import YOLO\n",
        "import torch"
      ]
    },
    {
      "cell_type": "code",
      "execution_count": null,
      "metadata": {},
      "outputs": [],
      "source": [
        "#model = YOLO(\"yolov8l.pt\") # load a pretrained model (recommended for training)\n",
        "#model.train(data=\"./drive/MyDrive/food_data/data.yaml\", epochs=3)  # train the model\n",
        "#metrics = model.val()  # evaluate model performance on the validation set\n",
        "#torch.save(model.model.state_dict(), \"best.pth\") # Save the model as a PyTorch file\n",
        "\n"
      ]
    },
    {
      "cell_type": "code",
      "execution_count": 14,
      "metadata": {
        "colab": {
          "base_uri": "https://localhost:8080/"
        },
        "id": "57W7ZsxpRJtv",
        "outputId": "29522307-09ad-400c-edab-6704bd62052a"
      },
      "outputs": [
        {
          "name": "stdout",
          "output_type": "stream",
          "text": [
            "\n",
            "Downloading https://www.allrecipes.com/thmb/5JVfA7MxfTUPfRerQMdF-nGKsLY=/1500x0/filters:no_upscale():max_bytes(150000):strip_icc()/25473-the-perfect-basic-burger-DDMFS-4x3-56eaba3833fd4a26a82755bcd0be0c54.jpg to '25473-the-perfect-basic-burger-DDMFS-4x3-56eaba3833fd4a26a82755bcd0be0c54.jpg'...\n"
          ]
        },
        {
          "name": "stderr",
          "output_type": "stream",
          "text": [
            "100%|██████████| 121k/121k [00:00<00:00, 1.42MB/s]\n"
          ]
        },
        {
          "name": "stdout",
          "output_type": "stream",
          "text": [
            "image 1/1 c:\\Users\\Tareq\\Desktop\\adv_ml\\25473-the-perfect-basic-burger-DDMFS-4x3-56eaba3833fd4a26a82755bcd0be0c54.jpg: 480x640 1 burger, 35.0ms\n",
            "Speed: 2.0ms preprocess, 35.0ms inference, 2.0ms postprocess per image at shape (1, 3, 480, 640)\n",
            "Results saved to \u001b[1mruns\\detect\\predict9\u001b[0m\n"
          ]
        }
      ],
      "source": [
        "# Load a model\n",
        "model=YOLO(\"best.pt\") \n",
        "results = model(\"https://www.allrecipes.com/thmb/5JVfA7MxfTUPfRerQMdF-nGKsLY=/1500x0/filters:no_upscale():max_bytes(150000):strip_icc()/25473-the-perfect-basic-burger-DDMFS-4x3-56eaba3833fd4a26a82755bcd0be0c54.jpg\",save=True)  # predict on an image\n",
        "#path = model.export(format=\"onnx\")  # export the model to ONNX format"
      ]
    },
    {
      "cell_type": "code",
      "execution_count": 15,
      "metadata": {
        "colab": {
          "base_uri": "https://localhost:8080/"
        },
        "id": "gm7NwzmbV1Nu",
        "outputId": "04b7b163-0b43-4674-a28e-6190a5bb759d"
      },
      "outputs": [
        {
          "name": "stdout",
          "output_type": "stream",
          "text": [
            "burger\n"
          ]
        }
      ],
      "source": [
        "names= ['Paneer_tikka', 'apple', 'apples', 'apricot', 'aubergine', 'avocado', 'banana', 'bean', 'beetroot', 'bread', 'burger', 'butter naan', 'buttter naan', 'cabbage', 'capsicum', 'carrot', 'cauliflower', 'chai', 'chapati', 'cheese', 'cherry', 'chili', 'chutney', 'coconut', 'corn', 'cucumber', 'cutlet', 'dal_makhani', 'dates', 'dhokla', 'egg', 'fig', 'friedchicken', 'garlic', 'geapes', 'ginger', 'grape', 'greapefurit', 'greenonions', 'greens', 'guva', 'idli', 'jalebi', 'kiwi', 'kulfi', 'ledisfingers', 'lemon', 'mango', 'masala_dosa', 'melon', 'momos', 'mushrooms', 'olive', 'onion', 'orange', 'paani_puri', 'pach', 'pakoda', 'papaya', 'pav_bhaji', 'pear', 'pineapple', 'pizza', 'pomegranate', 'potato', 'radish', 'raspberry', 'rice', 'sambhar', 'samosa', 'srawberry', 'sweet potato', 'tomato', 'tower burger', 'vegatable salad', 'waffle', 'watermelon']\n",
        "\n",
        "for result in results:\n",
        "    for box in result.boxes:\n",
        "        cls = box.cls.item()\n",
        "        output=names[int(cls)]\n",
        "        print(output)"
      ]
    },
    {
      "cell_type": "code",
      "execution_count": 16,
      "metadata": {
        "colab": {
          "base_uri": "https://localhost:8080/"
        },
        "id": "oZDr_TJBx6JG",
        "outputId": "2a812a4d-42df-4d5d-f597-f50955905c1c"
      },
      "outputs": [
        {
          "name": "stdout",
          "output_type": "stream",
          "text": [
            "{\"items\": [{\"name\": \"burger\", \"calories\": 237.7, \"serving_size_g\": 100.0, \"fat_total_g\": 11.5, \"fat_saturated_g\": 4.7, \"protein_g\": 15.2, \"sodium_mg\": 356, \"potassium_mg\": 137, \"cholesterol_mg\": 53, \"carbohydrates_total_g\": 18.1, \"fiber_g\": 0.0, \"sugar_g\": 0.0}]}\n"
          ]
        }
      ],
      "source": [
        "import requests\n",
        "\n",
        "api_url = 'https://api.calorieninjas.com/v1/nutrition?query='\n",
        "query = output\n",
        "response = requests.get(api_url + query, headers={'X-Api-Key': '0ROAjPGhjVxNgTD7JwsE/A==QGUSQczTXqLoyIep'})\n",
        "if response.status_code == requests.codes.ok:\n",
        "    print(response.text)\n",
        "else:\n",
        "    print(\"Error:\", response.status_code, response.text)"
      ]
    },
    {
      "cell_type": "code",
      "execution_count": 17,
      "metadata": {
        "id": "gIX9d7rcRqzh"
      },
      "outputs": [],
      "source": [
        "# Function to translate variable names into Arabic\n",
        "def translate_to_arabic(variable_name):\n",
        "    translation_dict = {\n",
        "        'name': 'اسم',\n",
        "        'calories': 'سعرات حرارية',\n",
        "        'serving_size_g': 'حجم الحصة (جم)',\n",
        "        'fat_total_g': 'الدهون الكلية (جم)',\n",
        "        'fat_saturated_g': 'الدهون المشبعة (جم)',\n",
        "        'protein_g': 'البروتين (جم)',\n",
        "        'sodium_mg': 'الصوديوم (ملغ)',\n",
        "        'potassium_mg': 'البوتاسيوم (ملغ)',\n",
        "        'cholesterol_mg': 'الكوليسترول (ملغ)',\n",
        "        'carbohydrates_total_g': 'إجمالي الكربوهيدرات (جم)',\n",
        "        'fiber_g': 'الألياف (جم)',\n",
        "        'sugar_g': 'السكر (جم)'\n",
        "    }\n",
        "    return translation_dict.get(variable_name, variable_name)"
      ]
    },
    {
      "cell_type": "code",
      "execution_count": 18,
      "metadata": {
        "id": "N-9HOCJYTV3V"
      },
      "outputs": [],
      "source": [
        "def translate_food_name(food_name):\n",
        "    try:\n",
        "        translator = Translator()\n",
        "        translation = translator.translate(food_name, src='en', dest='ar')\n",
        "        return translation.text\n",
        "    except exceptions.TranslatorError as e:\n",
        "        print(f\"Translation error: {e}\")\n",
        "        return food_name"
      ]
    },
    {
      "cell_type": "code",
      "execution_count": 19,
      "metadata": {
        "colab": {
          "base_uri": "https://localhost:8080/",
          "height": 211
        },
        "id": "AIuAmEa3R5UQ",
        "outputId": "74a7b82c-d34e-4ccf-de29-a30d42725903"
      },
      "outputs": [
        {
          "name": "stdout",
          "output_type": "stream",
          "text": [
            "اسم: burger\n",
            "سعرات حرارية: 237.7\n",
            "حجم الحصة (جم): 100.0\n",
            "الدهون الكلية (جم): 11.5\n",
            "الدهون المشبعة (جم): 4.7\n",
            "البروتين (جم): 15.2\n",
            "الصوديوم (ملغ): 356\n",
            "البوتاسيوم (ملغ): 137\n",
            "الكوليسترول (ملغ): 53\n",
            "إجمالي الكربوهيدرات (جم): 18.1\n",
            "الألياف (جم): 0.0\n",
            "السكر (جم): 0.0\n"
          ]
        }
      ],
      "source": [
        "import json\n",
        "response = json.loads(response.text)\n",
        "\n",
        "item = response['items'][0]\n",
        "\n",
        "# Translate the food name\n",
        "# item['name'] = translate_food_name(item['name'])\n",
        "\n",
        "\n",
        "# Prepare to translate other variables\n",
        "translated_variables = {}\n",
        "for key, value in item.items():\n",
        "    translated_key = translate_to_arabic(key)\n",
        "    translated_variables[translated_key] = value\n",
        "\n",
        "# Output the translated variables\n",
        "for key, value in translated_variables.items():\n",
        "    print(f\"{key}: {value}\")"
      ]
    }
  ],
  "metadata": {
    "accelerator": "GPU",
    "colab": {
      "gpuType": "T4",
      "provenance": []
    },
    "kernelspec": {
      "display_name": "Python 3",
      "name": "python3"
    },
    "language_info": {
      "codemirror_mode": {
        "name": "ipython",
        "version": 3
      },
      "file_extension": ".py",
      "mimetype": "text/x-python",
      "name": "python",
      "nbconvert_exporter": "python",
      "pygments_lexer": "ipython3",
      "version": "3.11.5"
    }
  },
  "nbformat": 4,
  "nbformat_minor": 0
}
