{
  "cells": [
    {
      "cell_type": "code",
      "execution_count": 15,
      "metadata": {
        "colab": {
          "base_uri": "https://localhost:8080/"
        },
        "id": "57W7ZsxpRJtv",
        "outputId": "29522307-09ad-400c-edab-6704bd62052a"
      },
      "outputs": [
        {
          "name": "stdout",
          "output_type": "stream",
          "text": [
            "\n",
            "Downloading https://www.eatingwell.com/thmb/k3RhYf4XhAeqAejYjdInOlSOp6I=/1500x0/filters:no_upscale():max_bytes(150000):strip_icc()/gettyimages-1124303516-36413b5bf61f45f1b7d18d90000b56b7.jpg to 'gettyimages-1124303516-36413b5bf61f45f1b7d18d90000b56b7.jpg'...\n"
          ]
        },
        {
          "name": "stderr",
          "output_type": "stream",
          "text": [
            "100%|██████████| 169k/169k [00:00<00:00, 1.56MB/s]\n"
          ]
        },
        {
          "name": "stdout",
          "output_type": "stream",
          "text": [
            "image 1/1 c:\\Users\\Tareq\\Desktop\\final_project_try2\\gettyimages-1124303516-36413b5bf61f45f1b7d18d90000b56b7.jpg: 640x640 1 pizza, 56.0ms\n",
            "Speed: 4.0ms preprocess, 56.0ms inference, 2.0ms postprocess per image at shape (1, 3, 640, 640)\n",
            "Results saved to \u001b[1mruns\\detect\\predict5\u001b[0m\n"
          ]
        }
      ],
      "source": [
        "from ultralytics import YOLO\n",
        "\n",
        "# Load a model\n",
        "#model = YOLO(\"yolov8l.pt\")  # load a pretrained model (recommended for training)\n",
        "model=YOLO(\"best.pt\")\n",
        "#model.train(data=\"./drive/MyDrive/food_data/data.yaml\", epochs=3)  # train the model\n",
        "#metrics = model.val()  # evaluate model performance on the validation set\n",
        "results = model(\"https://www.eatingwell.com/thmb/k3RhYf4XhAeqAejYjdInOlSOp6I=/1500x0/filters:no_upscale():max_bytes(150000):strip_icc()/gettyimages-1124303516-36413b5bf61f45f1b7d18d90000b56b7.jpg\",save=True)  # predict on an image\n",
        "#path = model.export(format=\"onnx\")  # export the model to ONNX format"
      ]
    },
    {
      "cell_type": "code",
      "execution_count": 16,
      "metadata": {
        "colab": {
          "base_uri": "https://localhost:8080/"
        },
        "id": "gm7NwzmbV1Nu",
        "outputId": "04b7b163-0b43-4674-a28e-6190a5bb759d"
      },
      "outputs": [
        {
          "name": "stdout",
          "output_type": "stream",
          "text": [
            "pizza\n"
          ]
        }
      ],
      "source": [
        "names= ['Paneer_tikka', 'apple', 'apples', 'apricot', 'aubergine', 'avocado', 'banana', 'bean', 'beetroot', 'bread', 'burger', 'butter naan', 'buttter naan', 'cabbage', 'capsicum', 'carrot', 'cauliflower', 'chai', 'chapati', 'cheese', 'cherry', 'chili', 'chutney', 'coconut', 'corn', 'cucumber', 'cutlet', 'dal_makhani', 'dates', 'dhokla', 'egg', 'fig', 'friedchicken', 'garlic', 'geapes', 'ginger', 'grape', 'greapefurit', 'greenonions', 'greens', 'guva', 'idli', 'jalebi', 'kiwi', 'kulfi', 'ledisfingers', 'lemon', 'mango', 'masala_dosa', 'melon', 'momos', 'mushrooms', 'olive', 'onion', 'orange', 'paani_puri', 'pach', 'pakoda', 'papaya', 'pav_bhaji', 'pear', 'pineapple', 'pizza', 'pomegranate', 'potato', 'radish', 'raspberry', 'rice', 'sambhar', 'samosa', 'srawberry', 'sweet potato', 'tomato', 'tower burger', 'vegatable salad', 'waffle', 'watermelon']\n",
        "\n",
        "for result in results:\n",
        "    for box in result.boxes:\n",
        "        cls = box.cls.item()\n",
        "        output=names[int(cls)]\n",
        "        print(output)"
      ]
    },
    {
      "cell_type": "code",
      "execution_count": 17,
      "metadata": {
        "colab": {
          "base_uri": "https://localhost:8080/"
        },
        "id": "oZDr_TJBx6JG",
        "outputId": "2a812a4d-42df-4d5d-f597-f50955905c1c"
      },
      "outputs": [
        {
          "name": "stdout",
          "output_type": "stream",
          "text": [
            "{\"items\": [{\"name\": \"pizza\", \"calories\": 262.9, \"serving_size_g\": 100.0, \"fat_total_g\": 9.8, \"fat_saturated_g\": 4.5, \"protein_g\": 11.4, \"sodium_mg\": 587, \"potassium_mg\": 217, \"cholesterol_mg\": 16, \"carbohydrates_total_g\": 32.9, \"fiber_g\": 2.3, \"sugar_g\": 3.6}]}\n"
          ]
        }
      ],
      "source": [
        "import requests\n",
        "\n",
        "api_url = 'https://api.calorieninjas.com/v1/nutrition?query='\n",
        "query = output\n",
        "response = requests.get(api_url + query, headers={'X-Api-Key': '0ROAjPGhjVxNgTD7JwsE/A==QGUSQczTXqLoyIep'})\n",
        "if response.status_code == requests.codes.ok:\n",
        "    print(response.text)\n",
        "else:\n",
        "    print(\"Error:\", response.status_code, response.text)"
      ]
    },
    {
      "cell_type": "code",
      "execution_count": 18,
      "metadata": {
        "id": "gIX9d7rcRqzh"
      },
      "outputs": [],
      "source": [
        "# Function to translate variable names into Arabic\n",
        "def translate_to_arabic(variable_name):\n",
        "    translation_dict = {\n",
        "        'name': 'اسم',\n",
        "        'calories': 'سعرات حرارية',\n",
        "        'serving_size_g': 'حجم الحصة (جم)',\n",
        "        'fat_total_g': 'الدهون الكلية (جم)',\n",
        "        'fat_saturated_g': 'الدهون المشبعة (جم)',\n",
        "        'protein_g': 'البروتين (جم)',\n",
        "        'sodium_mg': 'الصوديوم (ملغ)',\n",
        "        'potassium_mg': 'البوتاسيوم (ملغ)',\n",
        "        'cholesterol_mg': 'الكوليسترول (ملغ)',\n",
        "        'carbohydrates_total_g': 'إجمالي الكربوهيدرات (جم)',\n",
        "        'fiber_g': 'الألياف (جم)',\n",
        "        'sugar_g': 'السكر (جم)'\n",
        "    }\n",
        "    return translation_dict.get(variable_name, variable_name)"
      ]
    },
    {
      "cell_type": "code",
      "execution_count": null,
      "metadata": {
        "id": "N-9HOCJYTV3V"
      },
      "outputs": [],
      "source": [
        "# def translate_food_name(food_name):\n",
        "#     try:\n",
        "#         translator = Translator()\n",
        "#         translation = translator.translate(food_name, src='en', dest='ar')\n",
        "#         return translation.text\n",
        "#     except exceptions.TranslatorError as e:\n",
        "#         print(f\"Translation error: {e}\")\n",
        "#         return food_name"
      ]
    },
    {
      "cell_type": "code",
      "execution_count": null,
      "metadata": {
        "colab": {
          "base_uri": "https://localhost:8080/",
          "height": 211
        },
        "id": "AIuAmEa3R5UQ",
        "outputId": "74a7b82c-d34e-4ccf-de29-a30d42725903"
      },
      "outputs": [
        {
          "ename": "AttributeError",
          "evalue": "'dict' object has no attribute 'text'",
          "output_type": "error",
          "traceback": [
            "\u001b[0;31m---------------------------------------------------------------------------\u001b[0m",
            "\u001b[0;31mAttributeError\u001b[0m                            Traceback (most recent call last)",
            "\u001b[0;32m<ipython-input-14-91aedd872b3a>\u001b[0m in \u001b[0;36m<cell line: 2>\u001b[0;34m()\u001b[0m\n\u001b[1;32m      1\u001b[0m \u001b[0;32mimport\u001b[0m \u001b[0mjson\u001b[0m\u001b[0;34m\u001b[0m\u001b[0;34m\u001b[0m\u001b[0m\n\u001b[0;32m----> 2\u001b[0;31m \u001b[0mresponse\u001b[0m \u001b[0;34m=\u001b[0m \u001b[0mjson\u001b[0m\u001b[0;34m.\u001b[0m\u001b[0mloads\u001b[0m\u001b[0;34m(\u001b[0m\u001b[0mresponse\u001b[0m\u001b[0;34m.\u001b[0m\u001b[0mtext\u001b[0m\u001b[0;34m)\u001b[0m\u001b[0;34m\u001b[0m\u001b[0;34m\u001b[0m\u001b[0m\n\u001b[0m\u001b[1;32m      3\u001b[0m \u001b[0;34m\u001b[0m\u001b[0m\n\u001b[1;32m      4\u001b[0m \u001b[0mitem\u001b[0m \u001b[0;34m=\u001b[0m \u001b[0mresponse\u001b[0m\u001b[0;34m[\u001b[0m\u001b[0;34m'items'\u001b[0m\u001b[0;34m]\u001b[0m\u001b[0;34m[\u001b[0m\u001b[0;36m0\u001b[0m\u001b[0;34m]\u001b[0m\u001b[0;34m\u001b[0m\u001b[0;34m\u001b[0m\u001b[0m\n\u001b[1;32m      5\u001b[0m \u001b[0;34m\u001b[0m\u001b[0m\n",
            "\u001b[0;31mAttributeError\u001b[0m: 'dict' object has no attribute 'text'"
          ]
        }
      ],
      "source": [
        "# import json\n",
        "# response = json.loads(response.text)\n",
        "\n",
        "# item = response['items'][0]\n",
        "\n",
        "# # Translate the food name\n",
        "# # item['name'] = translate_food_name(item['name'])\n",
        "\n",
        "\n",
        "# # Prepare to translate other variables\n",
        "# translated_variables = {}\n",
        "# for key, value in item.items():\n",
        "#     translated_key = translate_to_arabic(key)\n",
        "#     translated_variables[translated_key] = value\n",
        "\n",
        "# # Output the translated variables\n",
        "# for key, value in translated_variables.items():\n",
        "#     print(f\"{key}: {value}\")"
      ]
    },
    {
      "cell_type": "code",
      "execution_count": null,
      "metadata": {
        "id": "llNh3Ev6yDzM"
      },
      "outputs": [],
      "source": []
    }
  ],
  "metadata": {
    "accelerator": "GPU",
    "colab": {
      "gpuType": "T4",
      "provenance": []
    },
    "kernelspec": {
      "display_name": "Python 3",
      "name": "python3"
    },
    "language_info": {
      "codemirror_mode": {
        "name": "ipython",
        "version": 3
      },
      "file_extension": ".py",
      "mimetype": "text/x-python",
      "name": "python",
      "nbconvert_exporter": "python",
      "pygments_lexer": "ipython3",
      "version": "3.11.5"
    }
  },
  "nbformat": 4,
  "nbformat_minor": 0
}
